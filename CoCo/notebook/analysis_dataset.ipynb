{
 "cells": [
  {
   "cell_type": "code",
   "execution_count": 1,
   "metadata": {},
   "outputs": [],
   "source": [
    "import json \n",
    "import numpy as np \n",
    "import cv2 \n",
    "import os \n",
    "import time"
   ]
  },
  {
   "cell_type": "code",
   "execution_count": null,
   "metadata": {},
   "outputs": [],
   "source": [
    "path_annotation = \"/home/asilla/duongnh/datasets/instances_train2017.json\""
   ]
  },
  {
   "cell_type": "code",
   "execution_count": 11,
   "metadata": {},
   "outputs": [],
   "source": [
    "file_annotation = open(path_annotation,'r')\n",
    "json_data = json.load(file_annotation)"
   ]
  },
  {
   "cell_type": "code",
   "execution_count": 14,
   "metadata": {},
   "outputs": [],
   "source": [
    "l_info = json_data['info']\n",
    "l_image = json_data['images']\n",
    "l_annotations = json_data['annotations']\n",
    "l_categories = json_data['categories']"
   ]
  },
  {
   "cell_type": "code",
   "execution_count": 15,
   "metadata": {},
   "outputs": [],
   "source": [
    "dict_image_id2image_name = {}\n",
    "for info_image in l_image:\n",
    "    file_name = info_image['file_name']\n",
    "    image_id = info_image[\"id\"]\n",
    "    dict_image_id2image_name[image_id] = file_name"
   ]
  },
  {
   "cell_type": "code",
   "execution_count": 16,
   "metadata": {},
   "outputs": [
    {
     "name": "stdout",
     "output_type": "stream",
     "text": [
      "{'license': 3, 'file_name': '000000391895.jpg', 'coco_url': 'http://images.cocodataset.org/train2017/000000391895.jpg', 'height': 360, 'width': 640, 'date_captured': '2013-11-14 11:18:45', 'flickr_url': 'http://farm9.staticflickr.com/8186/8119368305_4e622c8349_z.jpg', 'id': 391895}\n"
     ]
    }
   ],
   "source": [
    "print(l_image[0])"
   ]
  },
  {
   "cell_type": "code",
   "execution_count": 17,
   "metadata": {},
   "outputs": [
    {
     "name": "stdout",
     "output_type": "stream",
     "text": [
      "860001\n"
     ]
    }
   ],
   "source": [
    "print(len(l_annotations))"
   ]
  },
  {
   "cell_type": "code",
   "execution_count": 29,
   "metadata": {},
   "outputs": [],
   "source": [
    "imageid2imagename = {}\n",
    "for info_image in l_image:\n",
    "    file_name = info_image[\"file_name\"]\n",
    "    image_id = info_image[\"id\"]\n",
    "    imageid2imagename[image_id] = file_name"
   ]
  },
  {
   "cell_type": "code",
   "execution_count": 53,
   "metadata": {},
   "outputs": [],
   "source": [
    "#Analysis Person, Motorbike annotation\n",
    "\n",
    "\n",
    "def count_person_overlap_motor_bike(l_annotations):\n",
    "    '''\n",
    "    Loop annotation\n",
    "    \n",
    "    count person \n",
    "    count_motorbike\n",
    "    create dict image id with {person_bbox: [], motorbike_bbox: []}\n",
    "    loop all key \n",
    "    if person > 0, motorbike > 0: \n",
    "    loop person \n",
    "        loop mortorbike: -> check IOU: 50% -> l_image_id append -> count += 1\n",
    "    '''\n",
    "    dict_image_id = {}\n",
    "    count_person_bbox = 0\n",
    "    count_motor_bike = 0\n",
    "    object_id_person = 1\n",
    "    object_id_motorbike = 4\n",
    "    for annotation in l_annotations:\n",
    "        object_id = annotation['category_id']\n",
    "        image_id = annotation['image_id']\n",
    "        bbox = annotation['bbox']\n",
    "        # keypoint_object = annotation['']\n",
    "        if object_id == object_id_motorbike:\n",
    "            count_motor_bike += 1\n",
    "            if image_id not in dict_image_id:\n",
    "                dict_image_id[image_id] = {}\n",
    "                dict_image_id[image_id]['person'] = []\n",
    "                dict_image_id[image_id]['mortorbike'] = []\n",
    "                dict_image_id[image_id]['mortorbike'].append(bbox)\n",
    "            else:\n",
    "                dict_image_id[image_id]['mortorbike'].append(bbox)\n",
    "        elif object_id == object_id_person:\n",
    "            count_person_bbox += 1\n",
    "            if image_id not in dict_image_id:\n",
    "                dict_image_id[image_id] = {}\n",
    "                dict_image_id[image_id]['person'] = []\n",
    "                dict_image_id[image_id]['mortorbike'] = []\n",
    "                dict_image_id[image_id]['person'].append(bbox)\n",
    "            else:\n",
    "                dict_image_id[image_id]['person'].append(bbox)\n",
    "    print(count_motor_bike)\n",
    "    print(count_person_bbox)\n",
    "    return dict_image_id\n",
    "            \n",
    "    \n",
    "    \n",
    "    "
   ]
  },
  {
   "cell_type": "code",
   "execution_count": 54,
   "metadata": {},
   "outputs": [
    {
     "name": "stdout",
     "output_type": "stream",
     "text": [
      "8725\n",
      "262465\n"
     ]
    }
   ],
   "source": [
    "dict_image_id_motorbike = count_person_overlap_motor_bike(l_annotations)"
   ]
  },
  {
   "cell_type": "code",
   "execution_count": 55,
   "metadata": {},
   "outputs": [],
   "source": [
    "def bb_intersection_over_union(boxA, boxB):\n",
    "    \t# determine the (x, y)-coordinates of the intersection rectangle\n",
    "\txA = max(boxA[0], boxB[0])\n",
    "\tyA = max(boxA[1], boxB[1])\n",
    "\txB = min(boxA[2], boxB[2])\n",
    "\tyB = min(boxA[3], boxB[3])\n",
    "\t# compute the area of intersection rectangle\n",
    "\tinterArea = max(0, xB - xA + 1) * max(0, yB - yA + 1)\n",
    "\t# compute the area of both the prediction and ground-truth\n",
    "\t# rectangles\n",
    "\tboxAArea = (boxA[2] - boxA[0] + 1) * (boxA[3] - boxA[1] + 1)\n",
    "\tboxBArea = (boxB[2] - boxB[0] + 1) * (boxB[3] - boxB[1] + 1)\n",
    "\t# compute the intersection over union by taking the intersection\n",
    "\t# area and dividing it by the sum of prediction + ground-truth\n",
    "\t# areas - the interesection area\n",
    "\tiou = interArea / float(boxAArea + boxBArea - interArea)\n",
    "\t# return the intersection over union value\n",
    "\treturn iou"
   ]
  },
  {
   "cell_type": "code",
   "execution_count": 56,
   "metadata": {},
   "outputs": [],
   "source": [
    "def cal_IOU(bbox1, bbox2):\n",
    "    '''\n",
    "    Args: bbox: (xtop, ytop, w, h)\n",
    "    Returns: IOU\n",
    "    '''\n",
    "    x1, y1, w1, h1 = bbox1\n",
    "    x2, y2, w2, h2 = bbox2\n",
    "    boxA = (int(x1), int(y1), int(x1 + w1), int(y1 + h1))\n",
    "    boxB = (int(x2), int(y2), int(x2 + w2), int(y2 + h2))\n",
    "    \n",
    "    xA = max(boxA[0], boxB[0])\n",
    "    yA = max(boxA[1], boxB[1])\n",
    "    xB = min(boxA[2], boxB[2])\n",
    "    yB = min(boxA[3], boxB[3])\n",
    "    interArea = max(0, xB - xA + 1) * max(0, yB - yA + 1)\n",
    "    boxAArea = (boxA[2] - boxA[0] + 1) * (boxA[3] - boxA[1] + 1)\n",
    "    boxBArea = (boxB[2] - boxB[0] + 1) * (boxB[3] - boxB[1] + 1)\n",
    "    iou = interArea / float(boxAArea + boxBArea - interArea)\n",
    "    return iou"
   ]
  },
  {
   "cell_type": "code",
   "execution_count": 65,
   "metadata": {},
   "outputs": [
    {
     "name": "stdout",
     "output_type": "stream",
     "text": [
      "682\n"
     ]
    }
   ],
   "source": [
    "l_image_have_both = []\n",
    "l_image_overlap_object = []\n",
    "count_object_overlap  = 0\n",
    "\n",
    "l_image_id = []\n",
    "for image_id in dict_image_id_motorbike.keys():\n",
    "    item_tmp = dict_image_id_motorbike[image_id]\n",
    "    l_bbox_motorbike =item_tmp['mortorbike']\n",
    "    l_bbox_person = item_tmp['person']\n",
    "    iou_per_person = [0 for i in l_bbox_person]\n",
    "    status_found = False\n",
    "    if len(l_bbox_motorbike) > 0 and len(l_bbox_person) > 0:\n",
    "        l_image_have_both.append(image_id)\n",
    "        for index, bbox_person in enumerate(l_bbox_person):\n",
    "            for bbox_motorbike in l_bbox_motorbike:\n",
    "                iou_object = cal_IOU(bbox_person, bbox_motorbike)\n",
    "                if  iou_object >= 0.05:\n",
    "                    iou_per_person[index] = iou_object\n",
    "                    count_object_overlap += 1\n",
    "                    status_found = True\n",
    "                    # break\n",
    "    if status_found:\n",
    "        l_image_overlap_object.append(image_id)\n",
    "\n",
    "\n",
    "            "
   ]
  },
  {
   "cell_type": "code",
   "execution_count": null,
   "metadata": {},
   "outputs": [],
   "source": [
    "#Visualize"
   ]
  },
  {
   "cell_type": "code",
   "execution_count": 96,
   "metadata": {},
   "outputs": [],
   "source": [
    "import os\n",
    "import cv2"
   ]
  },
  {
   "cell_type": "code",
   "execution_count": 84,
   "metadata": {},
   "outputs": [],
   "source": [
    "path_data = \"/home/asilla/duongnh/datasets/train2017\"\n",
    "l_filename = os.listdir(path_data)"
   ]
  },
  {
   "cell_type": "code",
   "execution_count": 85,
   "metadata": {},
   "outputs": [
    {
     "name": "stdout",
     "output_type": "stream",
     "text": [
      "118287\n"
     ]
    }
   ],
   "source": [
    "print(len(l_filename))"
   ]
  },
  {
   "cell_type": "code",
   "execution_count": 127,
   "metadata": {},
   "outputs": [],
   "source": [
    "\n",
    "def visualize_bbox(image, bbox,color, iou, visualize_iou):\n",
    "    xtop, ytop, width, height = bbox\n",
    "    image = cv2.rectangle(image, (int(xtop), int(ytop)),\\\n",
    "                            (int(xtop + width), int(ytop + height)), color,1)\n",
    "    if visualize_iou and iou > 0:\n",
    "        font = cv2.FONT_HERSHEY_SIMPLEX\n",
    "        color = (255, 255, 255)\n",
    "        thickness = 2\n",
    "        fontScale = 1\n",
    "        iou = round(iou, 2)\n",
    "        image = cv2.putText(image, str(iou), (int(xtop), int(ytop +height/2)),\\\n",
    "                             font, fontScale, color, thickness,\\\n",
    "                             cv2.LINE_AA)\n",
    "    return image"
   ]
  },
  {
   "cell_type": "code",
   "execution_count": 128,
   "metadata": {},
   "outputs": [
    {
     "name": "stdout",
     "output_type": "stream",
     "text": [
      "107\n"
     ]
    }
   ],
   "source": [
    "print(len(l_image_id))"
   ]
  },
  {
   "cell_type": "code",
   "execution_count": 129,
   "metadata": {},
   "outputs": [],
   "source": [
    "def visualize_keypoint(image, keypoints, color):\n",
    "    global join_keypoint_categories\n",
    "    l_keypoint = []\n",
    "    for i in range(17):\n",
    "        x = int(keypoints[i * 3])\n",
    "        y = int(keypoints[i * 3 + 1])\n",
    "        l_keypoint.append((x,y))\n",
    "        if x != 0 and y != 0:\n",
    "            # print(x,y)\n",
    "            image = cv2.circle(image, (x,y), 2,(0,255,0), -1)\n",
    "    for pair_point in join_keypoint_categories:\n",
    "        start_point_index, end_point_index = pair_point\n",
    "        if l_keypoint[start_point_index - 1][0] != 0 and l_keypoint[start_point_index - 1][1] != 0 and\\\n",
    "            l_keypoint[end_point_index - 1][0] != 0 and l_keypoint[end_point_index - 1][1] != 0:\n",
    "            image = cv2.line(image, l_keypoint[start_point_index - 1], l_keypoint[end_point_index - 1], color, 2)\n",
    "    return image "
   ]
  },
  {
   "cell_type": "code",
   "execution_count": null,
   "metadata": {},
   "outputs": [],
   "source": []
  },
  {
   "cell_type": "code",
   "execution_count": 130,
   "metadata": {},
   "outputs": [],
   "source": [
    "l_color_keypointjoint = [(255,0,0), (0,255,255), (255,0,255),\\\n",
    "                        (0,140,255),(32,165,218),(0,128,128),\\\n",
    "                        (0,100,0),(79,79,47),(204,209,72),\\\n",
    "                        (112,25,25),(139,0,139)]"
   ]
  },
  {
   "cell_type": "code",
   "execution_count": 131,
   "metadata": {},
   "outputs": [
    {
     "name": "stdout",
     "output_type": "stream",
     "text": [
      "Save\n",
      "Save\n",
      "Save\n",
      "Save\n",
      "Save\n",
      "Save\n",
      "Save\n",
      "Save\n",
      "Save\n",
      "Save\n",
      "Save\n",
      "Save\n",
      "Save\n",
      "Save\n",
      "Save\n",
      "Save\n",
      "Save\n",
      "Save\n",
      "Save\n",
      "Save\n"
     ]
    }
   ],
   "source": [
    "count_visualize = 0\n",
    "# count_image_overlap = 0\n",
    "for image_id in l_image_id:\n",
    "    file_name = imageid2imagename[image_id]\n",
    "    if image_id in dict_image_id_filename_person:\n",
    "        file_name_person = dict_image_id_filename_person[image_id]\n",
    "        if file_name_person == file_name:\n",
    "            if file_name in l_filename:\n",
    "                image = cv2.imread(path_data + \"/\" + file_name)\n",
    "                l_keypoints = l_image_id_annotation_person[image_id]\n",
    "                \n",
    "                for index, keypoint in enumerate(l_keypoints):\n",
    "                    tmp_index = index\n",
    "                    if tmp_index > len(l_color_keypointjoint) - 1:\n",
    "                        tmp_index = 0\n",
    "                    color = l_color_keypointjoint[tmp_index]\n",
    "                    image = visualize_keypoint(image, keypoint, color)\n",
    "\n",
    "                annotation = dict_image_id_dog[image_id]\n",
    "                l_iou_score =  annotation['iou_score']\n",
    "                l_bbox_object = annotation[\"object\"]\n",
    "                l_bbox_person = annotation[\"person\"]\n",
    "                for bbox_object in l_bbox_object:\n",
    "                    image = visualize_bbox(image, bbox_object,(0,0,255),0, False)\n",
    "                for index, bbox_person in enumerate(l_bbox_person):\n",
    "                    image = visualize_bbox(image, bbox_person,(0,255,0),l_iou_score[index], True)\n",
    "                cv2.imwrite(\"Log_visualize_person_dog/\" + file_name, image)\n",
    "                count_visualize += 1\n",
    "                print(\"Save\")\n",
    "                if count_visualize > 19:\n",
    "                    break"
   ]
  },
  {
   "cell_type": "code",
   "execution_count": 43,
   "metadata": {},
   "outputs": [
    {
     "name": "stdout",
     "output_type": "stream",
     "text": [
      "591\n"
     ]
    }
   ],
   "source": [
    "print(count_image_overlap)"
   ]
  },
  {
   "cell_type": "code",
   "execution_count": null,
   "metadata": {},
   "outputs": [],
   "source": []
  },
  {
   "cell_type": "code",
   "execution_count": null,
   "metadata": {},
   "outputs": [],
   "source": []
  }
 ],
 "metadata": {
  "interpreter": {
   "hash": "aa153d84b1957f1e0e36524a4b00d687c4e72265b58175978be06a543e37f72e"
  },
  "kernelspec": {
   "display_name": "Python 3.8.12 ('model_v1')",
   "language": "python",
   "name": "python3"
  },
  "language_info": {
   "codemirror_mode": {
    "name": "ipython",
    "version": 3
   },
   "file_extension": ".py",
   "mimetype": "text/x-python",
   "name": "python",
   "nbconvert_exporter": "python",
   "pygments_lexer": "ipython3",
   "version": "3.7.11"
  },
  "orig_nbformat": 4
 },
 "nbformat": 4,
 "nbformat_minor": 2
}
